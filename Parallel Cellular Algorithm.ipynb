{
  "nbformat": 4,
  "nbformat_minor": 0,
  "metadata": {
    "colab": {
      "provenance": []
    },
    "kernelspec": {
      "name": "python3",
      "display_name": "Python 3"
    },
    "language_info": {
      "name": "python"
    }
  },
  "cells": [
    {
      "cell_type": "code",
      "execution_count": 9,
      "metadata": {
        "colab": {
          "base_uri": "https://localhost:8080/"
        },
        "id": "Ex2Bi51VkyCH",
        "outputId": "6b440e8f-9767-483c-d1c5-0d8117565f79"
      },
      "outputs": [
        {
          "output_type": "stream",
          "name": "stdout",
          "text": [
            "--- Parallel Cellular Algorithm: Noise Reduction ---\n",
            "Initializing noisy image grid (50x50)\n",
            "Iterations: 10\n",
            "Neighborhood: 8 neighbors (Moore neighborhood)\n",
            "\n",
            "Processing iteration 1 ...\n",
            "Processing iteration 2 ...\n",
            "Processing iteration 3 ...\n",
            "Processing iteration 4 ...\n",
            "Processing iteration 5 ...\n",
            "Processing iteration 6 ...\n",
            "Processing iteration 7 ...\n",
            "Processing iteration 8 ...\n",
            "Processing iteration 9 ...\n",
            "Processing iteration 10 ...\n",
            "\n",
            "--- Results ---\n",
            "Noise Level Before: 0.2348\n",
            "Noise Level After : 0.0346\n",
            "Noise Reduction Achieved ✅\n",
            "\n",
            "Best Solution: Smoothed (Denoised) Image Grid Found\n",
            "Convergence achieved after 10 iterations.\n",
            "---------------------------------------------------\n"
          ]
        }
      ],
      "source": [
        "import numpy as np\n",
        "from concurrent.futures import ThreadPoolExecutor\n",
        "\n",
        "# Step 1: Define the problem (Noise Reduction)\n",
        "np.random.seed(42)\n",
        "original_image = np.zeros((50, 50))\n",
        "noisy_image = original_image + np.random.normal(0, 0.3, (50, 50))  # Add Gaussian noise\n",
        "\n",
        "# Step 2: Define parameters\n",
        "iterations = 10\n",
        "grid_size = noisy_image.shape\n",
        "neighborhood = [(-1,0),(1,0),(0,-1),(0,1),(-1,-1),(-1,1),(1,-1),(1,1)]\n",
        "\n",
        "# Step 3: Define function to update cell based on neighbors\n",
        "def update_cell(i, j, grid):\n",
        "    neighbors = []\n",
        "    for dx, dy in neighborhood:\n",
        "        ni, nj = i + dx, j + dy\n",
        "        if 0 <= ni < grid_size[0] and 0 <= nj < grid_size[1]:\n",
        "            neighbors.append(grid[ni, nj])\n",
        "    return (grid[i, j] + np.mean(neighbors)) / 2\n",
        "\n",
        "# Step 4: Parallel update function\n",
        "def parallel_update(grid):\n",
        "    new_grid = np.copy(grid)\n",
        "    with ThreadPoolExecutor() as executor:\n",
        "        futures = {}\n",
        "        for i in range(grid_size[0]):\n",
        "            for j in range(grid_size[1]):\n",
        "                futures[executor.submit(update_cell, i, j, grid)] = (i, j)\n",
        "        for future in futures:\n",
        "            i, j = futures[future]\n",
        "            new_grid[i, j] = future.result()\n",
        "    return new_grid\n",
        "\n",
        "# Step 5: Print header\n",
        "print(\"--- Parallel Cellular Algorithm: Noise Reduction ---\")\n",
        "print(f\"Initializing noisy image grid ({grid_size[0]}x{grid_size[1]})\")\n",
        "print(f\"Iterations: {iterations}\")\n",
        "print(\"Neighborhood: 8 neighbors (Moore neighborhood)\\n\")\n",
        "\n",
        "# Step 6: Iterative denoising process\n",
        "current_grid = noisy_image\n",
        "for t in range(1, iterations + 1):\n",
        "    current_grid = parallel_update(current_grid)\n",
        "    print(f\"Processing iteration {t} ...\")\n",
        "\n",
        "# Step 7: Compute and print results\n",
        "noise_before = np.mean(np.abs(noisy_image - original_image))\n",
        "noise_after = np.mean(np.abs(current_grid - original_image))\n",
        "\n",
        "print(\"\\n--- Results ---\")\n",
        "print(f\"Noise Level Before: {noise_before:.4f}\")\n",
        "print(f\"Noise Level After : {noise_after:.4f}\")\n",
        "\n",
        "if noise_after < noise_before:\n",
        "    print(\"Noise Reduction Achieved ✅\")\n",
        "else:\n",
        "    print(\"No improvement detected ❌\")\n",
        "\n",
        "print(\"\\nBest Solution: Smoothed (Denoised) Image Grid Found\")\n",
        "print(f\"Convergence achieved after {iterations} iterations.\")\n",
        "print(\"---------------------------------------------------\")\n"
      ]
    }
  ]
}